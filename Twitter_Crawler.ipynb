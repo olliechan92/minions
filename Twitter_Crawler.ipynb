{
 "cells": [
  {
   "cell_type": "code",
   "execution_count": 134,
   "id": "a8e43775",
   "metadata": {
    "id": "a8e43775"
   },
   "outputs": [],
   "source": [
    "import tweepy\n",
    "import pandas as pd\n",
    "import time\n",
    "import re"
   ]
  },
  {
   "cell_type": "code",
   "execution_count": 135,
   "id": "f1d01d04",
   "metadata": {
    "id": "f1d01d04"
   },
   "outputs": [],
   "source": [
    "consumer_key = \"UsOF1GK0VWWPdTGXRD40D3dm5\"\n",
    "consumer_secret = \"3dxcVIYCwe71rydA3n8ZvPLIQyqGbGwP3uHaqmc1pDM6z1bGyz\"\n",
    "access_token = \"1440852507522048004-0C8wfUUQzX778dZ1qsDGUywwhZXcFQ\"\n",
    "access_token_secret = \"UALeQzrHQQVtDpdViDvZRBjht4G2DyLET7oifV4VfxO2I\"\n",
    "\n",
    "auth = tweepy.OAuthHandler(consumer_key, consumer_secret)\n",
    "auth.set_access_token(access_token, access_token_secret)\n",
    "api = tweepy.API(auth,wait_on_rate_limit=True)"
   ]
  },
  {
   "cell_type": "code",
   "execution_count": 136,
   "id": "9bed8419",
   "metadata": {
    "id": "9bed8419"
   },
   "outputs": [],
   "source": [
    "#method for searching and fetching user details\n",
    "user = api.get_user(screen_name = \"JoeBiden\")"
   ]
  },
  {
   "cell_type": "code",
   "execution_count": 137,
   "id": "3ec40b63",
   "metadata": {
    "id": "3ec40b63",
    "outputId": "ed7f82ff-53f5-4faa-d62a-5c6c6368baa2"
   },
   "outputs": [
    {
     "name": "stdout",
     "output_type": "stream",
     "text": [
      "['__class__', '__delattr__', '__dict__', '__dir__', '__doc__', '__eq__', '__format__', '__ge__', '__getattribute__', '__getstate__', '__gt__', '__hash__', '__init__', '__init_subclass__', '__le__', '__lt__', '__module__', '__ne__', '__new__', '__reduce__', '__reduce_ex__', '__repr__', '__setattr__', '__sizeof__', '__slots__', '__str__', '__subclasshook__', '__weakref__', '_api', '_json', 'contributors_enabled', 'created_at', 'default_profile', 'default_profile_image', 'description', 'entities', 'favourites_count', 'follow', 'follow_request_sent', 'follower_ids', 'followers', 'followers_count', 'following', 'friends', 'friends_count', 'geo_enabled', 'has_extended_profile', 'id', 'id_str', 'is_translation_enabled', 'is_translator', 'lang', 'list_memberships', 'list_ownerships', 'list_subscriptions', 'listed_count', 'lists', 'location', 'name', 'notifications', 'parse', 'parse_list', 'profile_background_color', 'profile_background_image_url', 'profile_background_image_url_https', 'profile_background_tile', 'profile_banner_url', 'profile_image_url', 'profile_image_url_https', 'profile_link_color', 'profile_location', 'profile_sidebar_border_color', 'profile_sidebar_fill_color', 'profile_text_color', 'profile_use_background_image', 'protected', 'screen_name', 'status', 'statuses_count', 'time_zone', 'timeline', 'translator_type', 'unfollow', 'url', 'utc_offset', 'verified', 'withheld_in_countries']\n"
     ]
    }
   ],
   "source": [
    "#list of attributes in user\n",
    "print(dir(user)) #check attribute and method of user"
   ]
  },
  {
   "cell_type": "code",
   "execution_count": 138,
   "id": "1890966d",
   "metadata": {
    "id": "1890966d",
    "outputId": "287a803f-4fcb-4c73-bf33-0b9828c1ff92"
   },
   "outputs": [
    {
     "name": "stdout",
     "output_type": "stream",
     "text": [
      "User Details:\n",
      "\n",
      "Name: Joe Biden\n",
      "Description: Husband to @DrBiden, proud father and grandfather. Ready to build back better for all Americans. Official account is @POTUS.\n",
      "Location: Washington, DC\n",
      "Created at: 2007-03-11 17:51:24+00:00\n",
      "Screen Name: JoeBiden\n",
      "User ID: 939091\n",
      "\n",
      "Social Network Information:\n",
      "\n",
      "Followers Count: 31424412\n",
      "Friends Count: 48\n"
     ]
    }
   ],
   "source": [
    "print(\"User Details:\")\n",
    "print(\"\")\n",
    "print(\"Name: \" + str(user.name))\n",
    "print(\"Description: \" + str(user.description))\n",
    "print(\"Location: \" + str(user.location))\n",
    "print(\"Created at: \" + str(user.created_at))\n",
    "print(\"Screen Name: \" + str(user.screen_name))\n",
    "print(\"User ID: \" + str(user.id))\n",
    "print(\"\")\n",
    "print(\"Social Network Information:\")\n",
    "print(\"\")\n",
    "print(\"Followers Count: \" + str(user.followers_count))\n",
    "print(\"Friends Count: \" + str(user.friends_count))"
   ]
  },
  {
   "cell_type": "code",
   "execution_count": 139,
   "id": "ab3760c1",
   "metadata": {
    "id": "ab3760c1"
   },
   "outputs": [],
   "source": [
    "#create user profile dataframe \n",
    "user_info = [[user.id, user.name, user.description, user.location, user.followers_count]]\n",
    "user_df = pd.DataFrame(user_info, columns = ['User ID', 'Name', 'Description', 'Location', 'Follower Count'])"
   ]
  },
  {
   "cell_type": "code",
   "execution_count": 140,
   "id": "b3806641",
   "metadata": {
    "id": "b3806641",
    "outputId": "21bac4d2-cf2e-4a39-923a-f7bab326b8de"
   },
   "outputs": [
    {
     "data": {
      "text/html": [
       "<div>\n",
       "<style scoped>\n",
       "    .dataframe tbody tr th:only-of-type {\n",
       "        vertical-align: middle;\n",
       "    }\n",
       "\n",
       "    .dataframe tbody tr th {\n",
       "        vertical-align: top;\n",
       "    }\n",
       "\n",
       "    .dataframe thead th {\n",
       "        text-align: right;\n",
       "    }\n",
       "</style>\n",
       "<table border=\"1\" class=\"dataframe\">\n",
       "  <thead>\n",
       "    <tr style=\"text-align: right;\">\n",
       "      <th></th>\n",
       "      <th>User ID</th>\n",
       "      <th>Name</th>\n",
       "      <th>Description</th>\n",
       "      <th>Location</th>\n",
       "      <th>Follower Count</th>\n",
       "    </tr>\n",
       "  </thead>\n",
       "  <tbody>\n",
       "    <tr>\n",
       "      <th>0</th>\n",
       "      <td>939091</td>\n",
       "      <td>Joe Biden</td>\n",
       "      <td>Husband to @DrBiden, proud father and grandfather. Ready to build back better for all Americans. Official account is @POTUS.</td>\n",
       "      <td>Washington, DC</td>\n",
       "      <td>31424412</td>\n",
       "    </tr>\n",
       "  </tbody>\n",
       "</table>\n",
       "</div>"
      ],
      "text/plain": [
       "   User ID       Name  \\\n",
       "0   939091  Joe Biden   \n",
       "\n",
       "                                                                                                                    Description  \\\n",
       "0  Husband to @DrBiden, proud father and grandfather. Ready to build back better for all Americans. Official account is @POTUS.   \n",
       "\n",
       "         Location  Follower Count  \n",
       "0  Washington, DC        31424412  "
      ]
     },
     "execution_count": 140,
     "metadata": {},
     "output_type": "execute_result"
    }
   ],
   "source": [
    "user_df.head()"
   ]
  },
  {
   "cell_type": "code",
   "execution_count": 141,
   "id": "3bb29ba5",
   "metadata": {
    "id": "3bb29ba5"
   },
   "outputs": [],
   "source": [
    "user_df.to_csv('{}-info.csv'.format(user.name), sep=',', index = False)"
   ]
  },
  {
   "cell_type": "code",
   "execution_count": 142,
   "id": "ba4dae64",
   "metadata": {
    "id": "ba4dae64"
   },
   "outputs": [],
   "source": [
    "#Replace URLs found in a text string with nothing\n",
    "def remove_url(txt): \n",
    "     return \" \".join(re.sub(\"([^0-9A-Za-z \\t])|(\\w+:\\/\\/\\S+)\", \"\", txt).split())"
   ]
  },
  {
   "cell_type": "code",
   "execution_count": 144,
   "id": "39c1f686",
   "metadata": {
    "id": "39c1f686"
   },
   "outputs": [],
   "source": [
    "name = \"JoeBiden\"\n",
    "tweetcount = 200\n",
    "tweets_list = []\n",
    "\n",
    "# Calling the user_timeline function with our parameters\n",
    "tweets = api.user_timeline(screen_name=name, count=tweetcount)\n",
    "\n",
    "# foreach through all tweets pulled\n",
    "for tweet in tweets:\n",
    "    try:    \n",
    "        tweets_list.append([tweet.id, remove_url(tweet.text), tweet.retweet_count, tweet.retweeted_status.favorite_count])\n",
    "    except:\n",
    "        tweets_list.append([tweet.id, remove_url(tweet.text), tweet.retweet_count, tweet.favorite_count])\n",
    "\n",
    "tweets_df = pd.DataFrame(tweets_list, columns = ['Tweet ID', 'Text', 'Retweet Count', 'Like Count'])\n",
    "# add the covid-19 in filter to extract both keywords since duplicates will be drop in the next line\n",
    "tweets_filter = tweets_df[tweets_df['Text'].str.contains('vaccinated', 'covid-19')]"
   ]
  },
  {
   "cell_type": "code",
   "execution_count": 133,
   "id": "88b7d9d2",
   "metadata": {},
   "outputs": [
    {
     "data": {
      "text/html": [
       "<div>\n",
       "<style scoped>\n",
       "    .dataframe tbody tr th:only-of-type {\n",
       "        vertical-align: middle;\n",
       "    }\n",
       "\n",
       "    .dataframe tbody tr th {\n",
       "        vertical-align: top;\n",
       "    }\n",
       "\n",
       "    .dataframe thead th {\n",
       "        text-align: right;\n",
       "    }\n",
       "</style>\n",
       "<table border=\"1\" class=\"dataframe\">\n",
       "  <thead>\n",
       "    <tr style=\"text-align: right;\">\n",
       "      <th></th>\n",
       "      <th>Tweet ID</th>\n",
       "      <th>Text</th>\n",
       "      <th>Retweet Count</th>\n",
       "      <th>Like Count</th>\n",
       "    </tr>\n",
       "  </thead>\n",
       "  <tbody>\n",
       "    <tr>\n",
       "      <th>13</th>\n",
       "      <td>1442617142222917633</td>\n",
       "      <td>Today I got my COVID19 booster shotand just like my first and second dose it was safe and easy Get vaccinated</td>\n",
       "      <td>3972</td>\n",
       "      <td>44711</td>\n",
       "    </tr>\n",
       "    <tr>\n",
       "      <th>18</th>\n",
       "      <td>1442272522775400448</td>\n",
       "      <td>Over 182 million Americans have already done the right thing and are fully vaccinated as of today To the other</td>\n",
       "      <td>2274</td>\n",
       "      <td>14507</td>\n",
       "    </tr>\n",
       "    <tr>\n",
       "      <th>26</th>\n",
       "      <td>1441848758321438723</td>\n",
       "      <td>The majority of Americans who were fully vaccinated with the Pfizer vaccine are now eligible to receive a booster s</td>\n",
       "      <td>1734</td>\n",
       "      <td>11490</td>\n",
       "    </tr>\n",
       "    <tr>\n",
       "      <th>29</th>\n",
       "      <td>1441532146082934785</td>\n",
       "      <td>RT POTUS The majority of Americans who were fully vaccinated with Pfizer can receive a booster shot at least 6 months after their second</td>\n",
       "      <td>4334</td>\n",
       "      <td>30247</td>\n",
       "    </tr>\n",
       "    <tr>\n",
       "      <th>40</th>\n",
       "      <td>1440012312480452613</td>\n",
       "      <td>RT POTUS We have the tools to put this pandemic behind us but we all have to do our part If you havent yet please get vaccinated And</td>\n",
       "      <td>8317</td>\n",
       "      <td>53318</td>\n",
       "    </tr>\n",
       "    <tr>\n",
       "      <th>44</th>\n",
       "      <td>1439228469028794368</td>\n",
       "      <td>Virtually all of the COVID deaths and hospitalizations are from unvaccinated people Get your shot</td>\n",
       "      <td>6497</td>\n",
       "      <td>46366</td>\n",
       "    </tr>\n",
       "    <tr>\n",
       "      <th>64</th>\n",
       "      <td>1436490934770929706</td>\n",
       "      <td>Our new COVID19 plan will reduce the number of unvaccinated Americans decrease hospitalizations and deaths allow</td>\n",
       "      <td>4847</td>\n",
       "      <td>39635</td>\n",
       "    </tr>\n",
       "    <tr>\n",
       "      <th>70</th>\n",
       "      <td>1435739980706500609</td>\n",
       "      <td>The pandemic of the unvaccinated is a tragedy that is preventable People are dying and will die from COVID19 who</td>\n",
       "      <td>7359</td>\n",
       "      <td>53167</td>\n",
       "    </tr>\n",
       "    <tr>\n",
       "      <th>74</th>\n",
       "      <td>1434188759747211267</td>\n",
       "      <td>RT POTUS I know some folks are hesitant to get vaccinated but the vaccine is safe effective and the best way to protect yourself and t</td>\n",
       "      <td>3359</td>\n",
       "      <td>17544</td>\n",
       "    </tr>\n",
       "    <tr>\n",
       "      <th>101</th>\n",
       "      <td>1426676508349943815</td>\n",
       "      <td>Our economy is coming backbut theres more work to be done We have to beat this virus Get vaccinated</td>\n",
       "      <td>8800</td>\n",
       "      <td>91769</td>\n",
       "    </tr>\n",
       "    <tr>\n",
       "      <th>111</th>\n",
       "      <td>1424030175940026370</td>\n",
       "      <td>RT POTUS The Delta variant is surging but we have the power to stop itGet vaccinated</td>\n",
       "      <td>15959</td>\n",
       "      <td>120652</td>\n",
       "    </tr>\n",
       "    <tr>\n",
       "      <th>122</th>\n",
       "      <td>1421861032402817032</td>\n",
       "      <td>If youre worried about the Delta variant the answer is simple get vaccinated</td>\n",
       "      <td>6538</td>\n",
       "      <td>44940</td>\n",
       "    </tr>\n",
       "    <tr>\n",
       "      <th>130</th>\n",
       "      <td>1418999226894372872</td>\n",
       "      <td>RT POTUS Folks the Delta variant is no joke Please protect yourself and your loved ones get vaccinated</td>\n",
       "      <td>25744</td>\n",
       "      <td>173246</td>\n",
       "    </tr>\n",
       "    <tr>\n",
       "      <th>137</th>\n",
       "      <td>1416792088239394816</td>\n",
       "      <td>RT POTUS With the Delta variant on the rise across the country its more important than ever to get vaccinated Head to</td>\n",
       "      <td>4444</td>\n",
       "      <td>21656</td>\n",
       "    </tr>\n",
       "    <tr>\n",
       "      <th>142</th>\n",
       "      <td>1415488484693905411</td>\n",
       "      <td>RT POTUS Thanks for stopping by Olivia and for using your voice to urge young people to get vaccinated If we all do our part and get t</td>\n",
       "      <td>15416</td>\n",
       "      <td>182284</td>\n",
       "    </tr>\n",
       "    <tr>\n",
       "      <th>145</th>\n",
       "      <td>1414299130743111685</td>\n",
       "      <td>RT POTUS Get vaccinated folks Its free its effective and its never been easier or more important</td>\n",
       "      <td>21199</td>\n",
       "      <td>161978</td>\n",
       "    </tr>\n",
       "    <tr>\n",
       "      <th>153</th>\n",
       "      <td>1410989575732961286</td>\n",
       "      <td>Help us mark our independence from this virusget vaccinated</td>\n",
       "      <td>7766</td>\n",
       "      <td>77547</td>\n",
       "    </tr>\n",
       "    <tr>\n",
       "      <th>155</th>\n",
       "      <td>1410694898601316359</td>\n",
       "      <td>The science is clear The best way to protect yourself against the virus and its variants is to be fully vaccinated</td>\n",
       "      <td>5466</td>\n",
       "      <td>43361</td>\n",
       "    </tr>\n",
       "    <tr>\n",
       "      <th>185</th>\n",
       "      <td>1403037362670743559</td>\n",
       "      <td>COVID19 vaccines are free Get vaccinated folks</td>\n",
       "      <td>18925</td>\n",
       "      <td>166853</td>\n",
       "    </tr>\n",
       "    <tr>\n",
       "      <th>194</th>\n",
       "      <td>1401310832882077696</td>\n",
       "      <td>Were counting on you to get vaccinated</td>\n",
       "      <td>3626</td>\n",
       "      <td>34066</td>\n",
       "    </tr>\n",
       "  </tbody>\n",
       "</table>\n",
       "</div>"
      ],
      "text/plain": [
       "                Tweet ID  \\\n",
       "13   1442617142222917633   \n",
       "18   1442272522775400448   \n",
       "26   1441848758321438723   \n",
       "29   1441532146082934785   \n",
       "40   1440012312480452613   \n",
       "44   1439228469028794368   \n",
       "64   1436490934770929706   \n",
       "70   1435739980706500609   \n",
       "74   1434188759747211267   \n",
       "101  1426676508349943815   \n",
       "111  1424030175940026370   \n",
       "122  1421861032402817032   \n",
       "130  1418999226894372872   \n",
       "137  1416792088239394816   \n",
       "142  1415488484693905411   \n",
       "145  1414299130743111685   \n",
       "153  1410989575732961286   \n",
       "155  1410694898601316359   \n",
       "185  1403037362670743559   \n",
       "194  1401310832882077696   \n",
       "\n",
       "                                                                                                                                         Text  \\\n",
       "13                              Today I got my COVID19 booster shotand just like my first and second dose it was safe and easy Get vaccinated   \n",
       "18                             Over 182 million Americans have already done the right thing and are fully vaccinated as of today To the other   \n",
       "26                        The majority of Americans who were fully vaccinated with the Pfizer vaccine are now eligible to receive a booster s   \n",
       "29   RT POTUS The majority of Americans who were fully vaccinated with Pfizer can receive a booster shot at least 6 months after their second   \n",
       "40       RT POTUS We have the tools to put this pandemic behind us but we all have to do our part If you havent yet please get vaccinated And   \n",
       "44                                          Virtually all of the COVID deaths and hospitalizations are from unvaccinated people Get your shot   \n",
       "64                           Our new COVID19 plan will reduce the number of unvaccinated Americans decrease hospitalizations and deaths allow   \n",
       "70                           The pandemic of the unvaccinated is a tragedy that is preventable People are dying and will die from COVID19 who   \n",
       "74     RT POTUS I know some folks are hesitant to get vaccinated but the vaccine is safe effective and the best way to protect yourself and t   \n",
       "101                                       Our economy is coming backbut theres more work to be done We have to beat this virus Get vaccinated   \n",
       "111                                                      RT POTUS The Delta variant is surging but we have the power to stop itGet vaccinated   \n",
       "122                                                              If youre worried about the Delta variant the answer is simple get vaccinated   \n",
       "130                                    RT POTUS Folks the Delta variant is no joke Please protect yourself and your loved ones get vaccinated   \n",
       "137                     RT POTUS With the Delta variant on the rise across the country its more important than ever to get vaccinated Head to   \n",
       "142    RT POTUS Thanks for stopping by Olivia and for using your voice to urge young people to get vaccinated If we all do our part and get t   \n",
       "145                                          RT POTUS Get vaccinated folks Its free its effective and its never been easier or more important   \n",
       "153                                                                               Help us mark our independence from this virusget vaccinated   \n",
       "155                        The science is clear The best way to protect yourself against the virus and its variants is to be fully vaccinated   \n",
       "185                                                                                            COVID19 vaccines are free Get vaccinated folks   \n",
       "194                                                                                                    Were counting on you to get vaccinated   \n",
       "\n",
       "     Retweet Count  Like Count  \n",
       "13            3972       44711  \n",
       "18            2274       14507  \n",
       "26            1734       11490  \n",
       "29            4334       30247  \n",
       "40            8317       53318  \n",
       "44            6497       46366  \n",
       "64            4847       39635  \n",
       "70            7359       53167  \n",
       "74            3359       17544  \n",
       "101           8800       91769  \n",
       "111          15959      120652  \n",
       "122           6538       44940  \n",
       "130          25744      173246  \n",
       "137           4444       21656  \n",
       "142          15416      182284  \n",
       "145          21199      161978  \n",
       "153           7766       77547  \n",
       "155           5466       43361  \n",
       "185          18925      166853  \n",
       "194           3626       34066  "
      ]
     },
     "execution_count": 133,
     "metadata": {},
     "output_type": "execute_result"
    }
   ],
   "source": [
    "tweets_filter"
   ]
  },
  {
   "cell_type": "code",
   "execution_count": 150,
   "id": "d14ba893",
   "metadata": {
    "id": "d14ba893",
    "outputId": "69f8738d-ea4e-44fe-82fd-d458954fc179"
   },
   "outputs": [
    {
     "name": "stdout",
     "output_type": "stream",
     "text": [
      "                Tweet ID                                                                                                                                      Text  Retweet Count  Like Count\n",
      "13   1442617142222917633                             Today I got my COVID19 booster shotand just like my first and second dose it was safe and easy Get vaccinated           3972       44711\n",
      "18   1442272522775400448                            Over 182 million Americans have already done the right thing and are fully vaccinated as of today To the other           2274       14507\n",
      "26   1441848758321438723                       The majority of Americans who were fully vaccinated with the Pfizer vaccine are now eligible to receive a booster s           1734       11490\n",
      "29   1441532146082934785  RT POTUS The majority of Americans who were fully vaccinated with Pfizer can receive a booster shot at least 6 months after their second           4334       30247\n",
      "40   1440012312480452613      RT POTUS We have the tools to put this pandemic behind us but we all have to do our part If you havent yet please get vaccinated And           8317       53318\n",
      "44   1439228469028794368                                         Virtually all of the COVID deaths and hospitalizations are from unvaccinated people Get your shot           6497       46366\n",
      "64   1436490934770929706                          Our new COVID19 plan will reduce the number of unvaccinated Americans decrease hospitalizations and deaths allow           4847       39635\n",
      "70   1435739980706500609                          The pandemic of the unvaccinated is a tragedy that is preventable People are dying and will die from COVID19 who           7359       53167\n",
      "74   1434188759747211267    RT POTUS I know some folks are hesitant to get vaccinated but the vaccine is safe effective and the best way to protect yourself and t           3359       17544\n",
      "101  1426676508349943815                                       Our economy is coming backbut theres more work to be done We have to beat this virus Get vaccinated           8800       91769\n",
      "111  1424030175940026370                                                      RT POTUS The Delta variant is surging but we have the power to stop itGet vaccinated          15959      120652\n",
      "122  1421861032402817032                                                              If youre worried about the Delta variant the answer is simple get vaccinated           6538       44940\n",
      "130  1418999226894372872                                    RT POTUS Folks the Delta variant is no joke Please protect yourself and your loved ones get vaccinated          25744      173246\n",
      "137  1416792088239394816                     RT POTUS With the Delta variant on the rise across the country its more important than ever to get vaccinated Head to           4444       21656\n",
      "142  1415488484693905411    RT POTUS Thanks for stopping by Olivia and for using your voice to urge young people to get vaccinated If we all do our part and get t          15416      182284\n",
      "145  1414299130743111685                                          RT POTUS Get vaccinated folks Its free its effective and its never been easier or more important          21199      161978\n",
      "153  1410989575732961286                                                                               Help us mark our independence from this virusget vaccinated           7766       77547\n",
      "155  1410694898601316359                        The science is clear The best way to protect yourself against the virus and its variants is to be fully vaccinated           5466       43361\n",
      "185  1403037362670743559                                                                                            COVID19 vaccines are free Get vaccinated folks          18925      166844\n",
      "194  1401310832882077696                                                                                                    Were counting on you to get vaccinated           3626       34066\n"
     ]
    }
   ],
   "source": [
    "# drop_duplicates to filter by the tweet id column and remove duplicates\n",
    "tweets_filter.drop_duplicates(subset=['Text'], keep=False)\n",
    "# added the to_string() to print out the whole thing for easier viewing\n",
    "print(tweets_filter.to_string())"
   ]
  },
  {
   "cell_type": "code",
   "execution_count": null,
   "id": "e571348c",
   "metadata": {
    "id": "e571348c"
   },
   "outputs": [],
   "source": [
    "# Converting dataframe to CSV \n",
    "tweets_filter.to_csv('{}-tweets.csv'.format(name), sep=',', index = False)"
   ]
  },
  {
   "cell_type": "code",
   "execution_count": null,
   "id": "92c94d8a",
   "metadata": {
    "id": "92c94d8a",
    "outputId": "a16af87c-476d-490d-92dc-bb7d801fe670"
   },
   "outputs": [],
   "source": [
    "dir(tweet)"
   ]
  },
  {
   "cell_type": "code",
   "execution_count": null,
   "id": "f1959e96",
   "metadata": {
    "id": "f1959e96"
   },
   "outputs": [],
   "source": []
  }
 ],
 "metadata": {
  "colab": {
   "name": "Twitter_Crawler_updated.ipynb",
   "provenance": []
  },
  "kernelspec": {
   "display_name": "Python 3",
   "language": "python",
   "name": "python3"
  },
  "language_info": {
   "codemirror_mode": {
    "name": "ipython",
    "version": 3
   },
   "file_extension": ".py",
   "mimetype": "text/x-python",
   "name": "python",
   "nbconvert_exporter": "python",
   "pygments_lexer": "ipython3",
   "version": "3.8.8"
  }
 },
 "nbformat": 4,
 "nbformat_minor": 5
}
